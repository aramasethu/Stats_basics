{
  "nbformat": 4,
  "nbformat_minor": 0,
  "metadata": {
    "colab": {
      "name": "PCA with Kaggle housing.ipynb",
      "provenance": [],
      "authorship_tag": "ABX9TyNBezdArN9+4bih0p9vM33K",
      "include_colab_link": true
    },
    "kernelspec": {
      "name": "python3",
      "display_name": "Python 3"
    },
    "language_info": {
      "name": "python"
    }
  },
  "cells": [
    {
      "cell_type": "markdown",
      "metadata": {
        "id": "view-in-github",
        "colab_type": "text"
      },
      "source": [
        "<a href=\"https://colab.research.google.com/github/aramasethu/Stats_basics/blob/main/PCA_with_Kaggle_housing.ipynb\" target=\"_parent\"><img src=\"https://colab.research.google.com/assets/colab-badge.svg\" alt=\"Open In Colab\"/></a>"
      ]
    },
    {
      "cell_type": "markdown",
      "metadata": {
        "id": "DnG_4gwa-vgS"
      },
      "source": [
        "# Load functions"
      ]
    },
    {
      "cell_type": "code",
      "metadata": {
        "id": "U8K1Uugtl1c-"
      },
      "source": [
        "import pandas as pd\n",
        "from sklearn.preprocessing import StandardScaler"
      ],
      "execution_count": 11,
      "outputs": []
    },
    {
      "cell_type": "markdown",
      "metadata": {
        "id": "T30AvEtJ-3mZ"
      },
      "source": [
        "# Load data"
      ]
    },
    {
      "cell_type": "code",
      "metadata": {
        "id": "fxuSLcUJmXJ_"
      },
      "source": [
        "df = pd.read_csv('train.csv')"
      ],
      "execution_count": 12,
      "outputs": []
    },
    {
      "cell_type": "markdown",
      "metadata": {
        "id": "TaB5CZhY--D3"
      },
      "source": [
        "# Standardise data"
      ]
    },
    {
      "cell_type": "code",
      "metadata": {
        "id": "D9-ZJOA3njAv"
      },
      "source": [
        "col_names = list(df.columns)\n",
        "features = col_names[:-1]\n",
        "target  = col_names[-1]\n",
        "\n",
        "# Separating out the features\n",
        "x = df.loc[:, features].values\n",
        "# Separating out the target\n",
        "y = df.loc[:,target].values\n",
        "# Standardizing the features\n",
        "#x = StandardScaler().fit_transform(x)"
      ],
      "execution_count": 27,
      "outputs": []
    },
    {
      "cell_type": "code",
      "metadata": {
        "colab": {
          "base_uri": "https://localhost:8080/"
        },
        "id": "QWp5ejSCnjxj",
        "outputId": "6943ccd1-2aef-4b99-d4fd-ff1ec22bb0f9"
      },
      "source": [
        "x"
      ],
      "execution_count": 29,
      "outputs": [
        {
          "output_type": "execute_result",
          "data": {
            "text/plain": [
              "array([[1, 60, 'RL', ..., 2008, 'WD', 'Normal'],\n",
              "       [2, 20, 'RL', ..., 2007, 'WD', 'Normal'],\n",
              "       [3, 60, 'RL', ..., 2008, 'WD', 'Normal'],\n",
              "       ...,\n",
              "       [1458, 70, 'RL', ..., 2010, 'WD', 'Normal'],\n",
              "       [1459, 20, 'RL', ..., 2010, 'WD', 'Normal'],\n",
              "       [1460, 20, 'RL', ..., 2008, 'WD', 'Normal']], dtype=object)"
            ]
          },
          "metadata": {
            "tags": []
          },
          "execution_count": 29
        }
      ]
    },
    {
      "cell_type": "code",
      "metadata": {
        "id": "Ty04xeLnvc4x"
      },
      "source": [
        ""
      ],
      "execution_count": 23,
      "outputs": []
    },
    {
      "cell_type": "code",
      "metadata": {
        "id": "CkL3A9-wFOq3",
        "outputId": "9e8888a4-f388-4dd0-e688-204d083438a8",
        "colab": {
          "base_uri": "https://localhost:8080/",
          "height": 35
        }
      },
      "source": [
        ""
      ],
      "execution_count": 24,
      "outputs": [
        {
          "output_type": "execute_result",
          "data": {
            "application/vnd.google.colaboratory.intrinsic+json": {
              "type": "string"
            },
            "text/plain": [
              "'SalePrice'"
            ]
          },
          "metadata": {
            "tags": []
          },
          "execution_count": 24
        }
      ]
    },
    {
      "cell_type": "code",
      "metadata": {
        "id": "ITrKXrYLFjK-"
      },
      "source": [
        ""
      ],
      "execution_count": null,
      "outputs": []
    }
  ]
}